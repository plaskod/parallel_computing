{
 "cells": [
  {
   "cell_type": "code",
   "execution_count": 1,
   "id": "dae71cfc",
   "metadata": {},
   "outputs": [],
   "source": [
    "import numpy as np\n",
    "import pandas as pd"
   ]
  },
  {
   "cell_type": "code",
   "execution_count": 27,
   "id": "31be1085",
   "metadata": {},
   "outputs": [],
   "source": [
    "df = pd.read_csv('./kody/dziel_full.csv', sep='\\t')\n",
    "df.drop(columns=['Hierarchy Level'], inplace=True)\n",
    "df = df.T\n",
    "new_header = df.iloc[0]\n",
    "df = df[1:]\n",
    "df.columns = new_header"
   ]
  },
  {
   "cell_type": "code",
   "execution_count": 28,
   "id": "ad31167f",
   "metadata": {},
   "outputs": [],
   "source": [
    "# SIEVE best time\n",
    "best_seq_time_2_max = 16.19\n",
    "best_seq_time_2_half = 6.19\n",
    "best_seq_time_half_max = 8.15\n",
    "\n",
    "physical_CPU_count = 2"
   ]
  },
  {
   "cell_type": "code",
   "execution_count": 29,
   "id": "f5d3762e",
   "metadata": {},
   "outputs": [],
   "source": [
    "# df['Clockticks'] = format(df['Clockticks'],'.1E')\n",
    "# df = df.apply(lambda x: format(float(x['Instructions Retired']),'.1E'))\n",
    "\n",
    "# t = df.apply(lambda x: )\n",
    "\n",
    "df['2-50kk: Przyspiszenie przetwarzania'] = best_seq_time_2_max/float(df['Elapsed Time'])\n",
    "df['2 - 25kk: Przyspiszenie przetwarzania'] = best_seq_time_2_half/float(df['Elapsed Time'])\n",
    "df['25kk - 50kk: Przyspiszenie przetwarzania'] = best_seq_time_half_max/float(df['Elapsed Time'])\n",
    "\n",
    "df['full: Prędkość przetwarzania'] = format((50_000_000-2)/ float(df['Elapsed Time']),'.1E')\n",
    "df['half: Prędkość przetwarzania'] = format((25_000_000-2)/ float(df['Elapsed Time']),'.1E')\n",
    "\n",
    "df['2-50kk: Efektywność przetwarzania'] = round(df['2-50kk: Przyspiszenie przetwarzania']/physical_CPU_count,2)\n",
    "df['2 - 25kk: Efektywność przetwarzania'] = round(df['2 - 25kk: Przyspiszenie przetwarzania']/physical_CPU_count,2)\n",
    "df['25kk-50kk: Efektywność przetwarzania'] = round(df['25kk - 50kk: Przyspiszenie przetwarzania']/physical_CPU_count,2)"
   ]
  },
  {
   "cell_type": "code",
   "execution_count": 30,
   "id": "7c31d87b",
   "metadata": {},
   "outputs": [],
   "source": [
    "df = df[['Elapsed Time', 'Clockticks', 'Instructions Retired', 'Retiring', 'Front-End Bound', 'Back-End Bound', 'Memory Bound', 'Core Bound', 'Effective CPU Utilization', '2-50kk: Przyspiszenie przetwarzania','2 - 25kk: Przyspiszenie przetwarzania','25kk - 50kk: Przyspiszenie przetwarzania','full: Prędkość przetwarzania','half: Prędkość przetwarzania','2-50kk: Efektywność przetwarzania','2 - 25kk: Efektywność przetwarzania', '25kk-50kk: Efektywność przetwarzania']].T"
   ]
  },
  {
   "cell_type": "code",
   "execution_count": 31,
   "id": "69fa114b",
   "metadata": {},
   "outputs": [
    {
     "data": {
      "text/html": [
       "<div>\n",
       "<style scoped>\n",
       "    .dataframe tbody tr th:only-of-type {\n",
       "        vertical-align: middle;\n",
       "    }\n",
       "\n",
       "    .dataframe tbody tr th {\n",
       "        vertical-align: top;\n",
       "    }\n",
       "\n",
       "    .dataframe thead th {\n",
       "        text-align: right;\n",
       "    }\n",
       "</style>\n",
       "<table border=\"1\" class=\"dataframe\">\n",
       "  <thead>\n",
       "    <tr style=\"text-align: right;\">\n",
       "      <th></th>\n",
       "      <th>Metric Value</th>\n",
       "    </tr>\n",
       "    <tr>\n",
       "      <th>Metric Name</th>\n",
       "      <th></th>\n",
       "    </tr>\n",
       "  </thead>\n",
       "  <tbody>\n",
       "    <tr>\n",
       "      <th>Elapsed Time</th>\n",
       "      <td>50.547412</td>\n",
       "    </tr>\n",
       "    <tr>\n",
       "      <th>Clockticks</th>\n",
       "      <td>140430600000</td>\n",
       "    </tr>\n",
       "    <tr>\n",
       "      <th>Instructions Retired</th>\n",
       "      <td>173273400000</td>\n",
       "    </tr>\n",
       "    <tr>\n",
       "      <th>Retiring</th>\n",
       "      <td>55.5</td>\n",
       "    </tr>\n",
       "    <tr>\n",
       "      <th>Front-End Bound</th>\n",
       "      <td>43.6</td>\n",
       "    </tr>\n",
       "    <tr>\n",
       "      <th>Back-End Bound</th>\n",
       "      <td>0.4</td>\n",
       "    </tr>\n",
       "    <tr>\n",
       "      <th>Memory Bound</th>\n",
       "      <td>0.0</td>\n",
       "    </tr>\n",
       "    <tr>\n",
       "      <th>Core Bound</th>\n",
       "      <td>0.4</td>\n",
       "    </tr>\n",
       "    <tr>\n",
       "      <th>Effective CPU Utilization</th>\n",
       "      <td>77.3</td>\n",
       "    </tr>\n",
       "    <tr>\n",
       "      <th>2-50kk: Przyspiszenie przetwarzania</th>\n",
       "      <td>0.320293</td>\n",
       "    </tr>\n",
       "    <tr>\n",
       "      <th>2 - 25kk: Przyspiszenie przetwarzania</th>\n",
       "      <td>0.122459</td>\n",
       "    </tr>\n",
       "    <tr>\n",
       "      <th>25kk - 50kk: Przyspiszenie przetwarzania</th>\n",
       "      <td>0.161235</td>\n",
       "    </tr>\n",
       "    <tr>\n",
       "      <th>full: Prędkość przetwarzania</th>\n",
       "      <td>9.9E+05</td>\n",
       "    </tr>\n",
       "    <tr>\n",
       "      <th>half: Prędkość przetwarzania</th>\n",
       "      <td>4.9E+05</td>\n",
       "    </tr>\n",
       "    <tr>\n",
       "      <th>2-50kk: Efektywność przetwarzania</th>\n",
       "      <td>0.16</td>\n",
       "    </tr>\n",
       "    <tr>\n",
       "      <th>2 - 25kk: Efektywność przetwarzania</th>\n",
       "      <td>0.06</td>\n",
       "    </tr>\n",
       "    <tr>\n",
       "      <th>25kk-50kk: Efektywność przetwarzania</th>\n",
       "      <td>0.08</td>\n",
       "    </tr>\n",
       "  </tbody>\n",
       "</table>\n",
       "</div>"
      ],
      "text/plain": [
       "                                          Metric Value\n",
       "Metric Name                                           \n",
       "Elapsed Time                                 50.547412\n",
       "Clockticks                                140430600000\n",
       "Instructions Retired                      173273400000\n",
       "Retiring                                          55.5\n",
       "Front-End Bound                                   43.6\n",
       "Back-End Bound                                     0.4\n",
       "Memory Bound                                       0.0\n",
       "Core Bound                                         0.4\n",
       "Effective CPU Utilization                         77.3\n",
       "2-50kk: Przyspiszenie przetwarzania           0.320293\n",
       "2 - 25kk: Przyspiszenie przetwarzania         0.122459\n",
       "25kk - 50kk: Przyspiszenie przetwarzania      0.161235\n",
       "full: Prędkość przetwarzania                   9.9E+05\n",
       "half: Prędkość przetwarzania                   4.9E+05\n",
       "2-50kk: Efektywność przetwarzania                 0.16\n",
       "2 - 25kk: Efektywność przetwarzania               0.06\n",
       "25kk-50kk: Efektywność przetwarzania              0.08"
      ]
     },
     "execution_count": 31,
     "metadata": {},
     "output_type": "execute_result"
    }
   ],
   "source": [
    "df"
   ]
  },
  {
   "cell_type": "code",
   "execution_count": 32,
   "id": "9b5e8489",
   "metadata": {},
   "outputs": [],
   "source": [
    "df = df.T"
   ]
  },
  {
   "cell_type": "code",
   "execution_count": 33,
   "id": "277dbc95",
   "metadata": {},
   "outputs": [],
   "source": [
    "df['Instructions Retired'] = df['Instructions Retired'].apply(lambda x: format(float(x),'.1E'))\n",
    "df['Clockticks'] = df['Clockticks'].apply(lambda x: format(float(x),'.1E'))"
   ]
  },
  {
   "cell_type": "code",
   "execution_count": 34,
   "id": "615272f9",
   "metadata": {},
   "outputs": [
    {
     "data": {
      "text/html": [
       "<div>\n",
       "<style scoped>\n",
       "    .dataframe tbody tr th:only-of-type {\n",
       "        vertical-align: middle;\n",
       "    }\n",
       "\n",
       "    .dataframe tbody tr th {\n",
       "        vertical-align: top;\n",
       "    }\n",
       "\n",
       "    .dataframe thead th {\n",
       "        text-align: right;\n",
       "    }\n",
       "</style>\n",
       "<table border=\"1\" class=\"dataframe\">\n",
       "  <thead>\n",
       "    <tr style=\"text-align: right;\">\n",
       "      <th>Metric Name</th>\n",
       "      <th>Elapsed Time</th>\n",
       "      <th>Clockticks</th>\n",
       "      <th>Instructions Retired</th>\n",
       "      <th>Retiring</th>\n",
       "      <th>Front-End Bound</th>\n",
       "      <th>Back-End Bound</th>\n",
       "      <th>Memory Bound</th>\n",
       "      <th>Core Bound</th>\n",
       "      <th>Effective CPU Utilization</th>\n",
       "      <th>2-50kk: Przyspiszenie przetwarzania</th>\n",
       "      <th>2 - 25kk: Przyspiszenie przetwarzania</th>\n",
       "      <th>25kk - 50kk: Przyspiszenie przetwarzania</th>\n",
       "      <th>full: Prędkość przetwarzania</th>\n",
       "      <th>half: Prędkość przetwarzania</th>\n",
       "      <th>2-50kk: Efektywność przetwarzania</th>\n",
       "      <th>2 - 25kk: Efektywność przetwarzania</th>\n",
       "      <th>25kk-50kk: Efektywność przetwarzania</th>\n",
       "    </tr>\n",
       "  </thead>\n",
       "  <tbody>\n",
       "    <tr>\n",
       "      <th>Metric Value</th>\n",
       "      <td>50.547412</td>\n",
       "      <td>1.4E+11</td>\n",
       "      <td>1.7E+11</td>\n",
       "      <td>55.5</td>\n",
       "      <td>43.6</td>\n",
       "      <td>0.4</td>\n",
       "      <td>0.0</td>\n",
       "      <td>0.4</td>\n",
       "      <td>77.3</td>\n",
       "      <td>0.320293</td>\n",
       "      <td>0.122459</td>\n",
       "      <td>0.161235</td>\n",
       "      <td>9.9E+05</td>\n",
       "      <td>4.9E+05</td>\n",
       "      <td>0.16</td>\n",
       "      <td>0.06</td>\n",
       "      <td>0.08</td>\n",
       "    </tr>\n",
       "  </tbody>\n",
       "</table>\n",
       "</div>"
      ],
      "text/plain": [
       "Metric Name  Elapsed Time Clockticks Instructions Retired Retiring  \\\n",
       "Metric Value    50.547412    1.4E+11              1.7E+11     55.5   \n",
       "\n",
       "Metric Name  Front-End Bound Back-End Bound Memory Bound Core Bound  \\\n",
       "Metric Value            43.6            0.4          0.0        0.4   \n",
       "\n",
       "Metric Name  Effective CPU Utilization 2-50kk: Przyspiszenie przetwarzania  \\\n",
       "Metric Value                      77.3                            0.320293   \n",
       "\n",
       "Metric Name  2 - 25kk: Przyspiszenie przetwarzania  \\\n",
       "Metric Value                              0.122459   \n",
       "\n",
       "Metric Name  25kk - 50kk: Przyspiszenie przetwarzania  \\\n",
       "Metric Value                                 0.161235   \n",
       "\n",
       "Metric Name  full: Prędkość przetwarzania half: Prędkość przetwarzania  \\\n",
       "Metric Value                      9.9E+05                      4.9E+05   \n",
       "\n",
       "Metric Name  2-50kk: Efektywność przetwarzania  \\\n",
       "Metric Value                              0.16   \n",
       "\n",
       "Metric Name  2 - 25kk: Efektywność przetwarzania  \\\n",
       "Metric Value                                0.06   \n",
       "\n",
       "Metric Name  25kk-50kk: Efektywność przetwarzania  \n",
       "Metric Value                                 0.08  "
      ]
     },
     "execution_count": 34,
     "metadata": {},
     "output_type": "execute_result"
    }
   ],
   "source": [
    "df"
   ]
  },
  {
   "cell_type": "code",
   "execution_count": 32,
   "id": "ba6e6478",
   "metadata": {},
   "outputs": [
    {
     "ename": "AttributeError",
     "evalue": "'Series' object has no attribute 'value'",
     "output_type": "error",
     "traceback": [
      "\u001b[0;31m---------------------------------------------------------------------------\u001b[0m",
      "\u001b[0;31mAttributeError\u001b[0m                            Traceback (most recent call last)",
      "\u001b[0;32m/tmp/ipykernel_21074/1943830178.py\u001b[0m in \u001b[0;36m<module>\u001b[0;34m\u001b[0m\n\u001b[0;32m----> 1\u001b[0;31m \u001b[0mdf\u001b[0m\u001b[0;34m[\u001b[0m\u001b[0;34m'Instructions Retired'\u001b[0m\u001b[0;34m]\u001b[0m\u001b[0;34m.\u001b[0m\u001b[0mvalue\u001b[0m\u001b[0;34m.\u001b[0m\u001b[0mformat\u001b[0m\u001b[0;34m(\u001b[0m\u001b[0;34m'.1E'\u001b[0m\u001b[0;34m)\u001b[0m\u001b[0;34m\u001b[0m\u001b[0;34m\u001b[0m\u001b[0m\n\u001b[0m",
      "\u001b[0;32m~/.local/lib/python3.8/site-packages/pandas/core/generic.py\u001b[0m in \u001b[0;36m__getattr__\u001b[0;34m(self, name)\u001b[0m\n\u001b[1;32m   5485\u001b[0m         ):\n\u001b[1;32m   5486\u001b[0m             \u001b[0;32mreturn\u001b[0m \u001b[0mself\u001b[0m\u001b[0;34m[\u001b[0m\u001b[0mname\u001b[0m\u001b[0;34m]\u001b[0m\u001b[0;34m\u001b[0m\u001b[0;34m\u001b[0m\u001b[0m\n\u001b[0;32m-> 5487\u001b[0;31m         \u001b[0;32mreturn\u001b[0m \u001b[0mobject\u001b[0m\u001b[0;34m.\u001b[0m\u001b[0m__getattribute__\u001b[0m\u001b[0;34m(\u001b[0m\u001b[0mself\u001b[0m\u001b[0;34m,\u001b[0m \u001b[0mname\u001b[0m\u001b[0;34m)\u001b[0m\u001b[0;34m\u001b[0m\u001b[0;34m\u001b[0m\u001b[0m\n\u001b[0m\u001b[1;32m   5488\u001b[0m \u001b[0;34m\u001b[0m\u001b[0m\n\u001b[1;32m   5489\u001b[0m     \u001b[0;32mdef\u001b[0m \u001b[0m__setattr__\u001b[0m\u001b[0;34m(\u001b[0m\u001b[0mself\u001b[0m\u001b[0;34m,\u001b[0m \u001b[0mname\u001b[0m\u001b[0;34m:\u001b[0m \u001b[0mstr\u001b[0m\u001b[0;34m,\u001b[0m \u001b[0mvalue\u001b[0m\u001b[0;34m)\u001b[0m \u001b[0;34m->\u001b[0m \u001b[0;32mNone\u001b[0m\u001b[0;34m:\u001b[0m\u001b[0;34m\u001b[0m\u001b[0;34m\u001b[0m\u001b[0m\n",
      "\u001b[0;31mAttributeError\u001b[0m: 'Series' object has no attribute 'value'"
     ]
    }
   ],
   "source": [
    "df['Instructions Retired'].format('.1E')"
   ]
  },
  {
   "cell_type": "code",
   "execution_count": 17,
   "id": "e591fbe8",
   "metadata": {},
   "outputs": [
    {
     "ename": "KeyError",
     "evalue": "\"['2-50kk: Przyspiszenie przetwarzania', '2 - 25kk: Przyspiszenie przetwarzania', '25kk - 50kk: Przyspiszenie przetwarzania', 'full: Prędkość przetwarzania', 'half: Prędkość przetwarzania', '2-50kk: Efektywność przetwarzania', '2 - 25kk: Efektywność przetwarzania', '25kk-50kk: Efektywność przetwarzania'] not in index\"",
     "output_type": "error",
     "traceback": [
      "\u001b[0;31m---------------------------------------------------------------------------\u001b[0m",
      "\u001b[0;31mKeyError\u001b[0m                                  Traceback (most recent call last)",
      "\u001b[0;32m/tmp/ipykernel_21074/1599651612.py\u001b[0m in \u001b[0;36m<module>\u001b[0;34m\u001b[0m\n\u001b[0;32m----> 1\u001b[0;31m \u001b[0mdf\u001b[0m\u001b[0;34m[\u001b[0m\u001b[0;34m[\u001b[0m\u001b[0;34m'Elapsed Time'\u001b[0m\u001b[0;34m,\u001b[0m \u001b[0;34m'Clockticks'\u001b[0m\u001b[0;34m,\u001b[0m \u001b[0;34m'Instructions Retired'\u001b[0m\u001b[0;34m,\u001b[0m \u001b[0;34m'Retiring'\u001b[0m\u001b[0;34m,\u001b[0m \u001b[0;34m'Front-End Bound'\u001b[0m\u001b[0;34m,\u001b[0m \u001b[0;34m'Back-End Bound'\u001b[0m\u001b[0;34m,\u001b[0m \u001b[0;34m'Memory Bound'\u001b[0m\u001b[0;34m,\u001b[0m \u001b[0;34m'Core Bound'\u001b[0m\u001b[0;34m,\u001b[0m \u001b[0;34m'Effective CPU Utilization'\u001b[0m\u001b[0;34m,\u001b[0m \u001b[0;34m'2-50kk: Przyspiszenie przetwarzania'\u001b[0m\u001b[0;34m,\u001b[0m\u001b[0;34m'2 - 25kk: Przyspiszenie przetwarzania'\u001b[0m\u001b[0;34m,\u001b[0m\u001b[0;34m'25kk - 50kk: Przyspiszenie przetwarzania'\u001b[0m\u001b[0;34m,\u001b[0m\u001b[0;34m'full: Prędkość przetwarzania'\u001b[0m\u001b[0;34m,\u001b[0m\u001b[0;34m'half: Prędkość przetwarzania'\u001b[0m\u001b[0;34m,\u001b[0m\u001b[0;34m'2-50kk: Efektywność przetwarzania'\u001b[0m\u001b[0;34m,\u001b[0m\u001b[0;34m'2 - 25kk: Efektywność przetwarzania'\u001b[0m\u001b[0;34m,\u001b[0m \u001b[0;34m'25kk-50kk: Efektywność przetwarzania'\u001b[0m\u001b[0;34m]\u001b[0m\u001b[0;34m]\u001b[0m\u001b[0;34m.\u001b[0m\u001b[0mT\u001b[0m\u001b[0;34m\u001b[0m\u001b[0;34m\u001b[0m\u001b[0m\n\u001b[0m",
      "\u001b[0;32m~/.local/lib/python3.8/site-packages/pandas/core/frame.py\u001b[0m in \u001b[0;36m__getitem__\u001b[0;34m(self, key)\u001b[0m\n\u001b[1;32m   3462\u001b[0m             \u001b[0;32mif\u001b[0m \u001b[0mis_iterator\u001b[0m\u001b[0;34m(\u001b[0m\u001b[0mkey\u001b[0m\u001b[0;34m)\u001b[0m\u001b[0;34m:\u001b[0m\u001b[0;34m\u001b[0m\u001b[0;34m\u001b[0m\u001b[0m\n\u001b[1;32m   3463\u001b[0m                 \u001b[0mkey\u001b[0m \u001b[0;34m=\u001b[0m \u001b[0mlist\u001b[0m\u001b[0;34m(\u001b[0m\u001b[0mkey\u001b[0m\u001b[0;34m)\u001b[0m\u001b[0;34m\u001b[0m\u001b[0;34m\u001b[0m\u001b[0m\n\u001b[0;32m-> 3464\u001b[0;31m             \u001b[0mindexer\u001b[0m \u001b[0;34m=\u001b[0m \u001b[0mself\u001b[0m\u001b[0;34m.\u001b[0m\u001b[0mloc\u001b[0m\u001b[0;34m.\u001b[0m\u001b[0m_get_listlike_indexer\u001b[0m\u001b[0;34m(\u001b[0m\u001b[0mkey\u001b[0m\u001b[0;34m,\u001b[0m \u001b[0maxis\u001b[0m\u001b[0;34m=\u001b[0m\u001b[0;36m1\u001b[0m\u001b[0;34m)\u001b[0m\u001b[0;34m[\u001b[0m\u001b[0;36m1\u001b[0m\u001b[0;34m]\u001b[0m\u001b[0;34m\u001b[0m\u001b[0;34m\u001b[0m\u001b[0m\n\u001b[0m\u001b[1;32m   3465\u001b[0m \u001b[0;34m\u001b[0m\u001b[0m\n\u001b[1;32m   3466\u001b[0m         \u001b[0;31m# take() does not accept boolean indexers\u001b[0m\u001b[0;34m\u001b[0m\u001b[0;34m\u001b[0m\u001b[0;34m\u001b[0m\u001b[0m\n",
      "\u001b[0;32m~/.local/lib/python3.8/site-packages/pandas/core/indexing.py\u001b[0m in \u001b[0;36m_get_listlike_indexer\u001b[0;34m(self, key, axis)\u001b[0m\n\u001b[1;32m   1312\u001b[0m             \u001b[0mkeyarr\u001b[0m\u001b[0;34m,\u001b[0m \u001b[0mindexer\u001b[0m\u001b[0;34m,\u001b[0m \u001b[0mnew_indexer\u001b[0m \u001b[0;34m=\u001b[0m \u001b[0max\u001b[0m\u001b[0;34m.\u001b[0m\u001b[0m_reindex_non_unique\u001b[0m\u001b[0;34m(\u001b[0m\u001b[0mkeyarr\u001b[0m\u001b[0;34m)\u001b[0m\u001b[0;34m\u001b[0m\u001b[0;34m\u001b[0m\u001b[0m\n\u001b[1;32m   1313\u001b[0m \u001b[0;34m\u001b[0m\u001b[0m\n\u001b[0;32m-> 1314\u001b[0;31m         \u001b[0mself\u001b[0m\u001b[0;34m.\u001b[0m\u001b[0m_validate_read_indexer\u001b[0m\u001b[0;34m(\u001b[0m\u001b[0mkeyarr\u001b[0m\u001b[0;34m,\u001b[0m \u001b[0mindexer\u001b[0m\u001b[0;34m,\u001b[0m \u001b[0maxis\u001b[0m\u001b[0;34m)\u001b[0m\u001b[0;34m\u001b[0m\u001b[0;34m\u001b[0m\u001b[0m\n\u001b[0m\u001b[1;32m   1315\u001b[0m \u001b[0;34m\u001b[0m\u001b[0m\n\u001b[1;32m   1316\u001b[0m         if needs_i8_conversion(ax.dtype) or isinstance(\n",
      "\u001b[0;32m~/.local/lib/python3.8/site-packages/pandas/core/indexing.py\u001b[0m in \u001b[0;36m_validate_read_indexer\u001b[0;34m(self, key, indexer, axis)\u001b[0m\n\u001b[1;32m   1375\u001b[0m \u001b[0;34m\u001b[0m\u001b[0m\n\u001b[1;32m   1376\u001b[0m             \u001b[0mnot_found\u001b[0m \u001b[0;34m=\u001b[0m \u001b[0mlist\u001b[0m\u001b[0;34m(\u001b[0m\u001b[0mensure_index\u001b[0m\u001b[0;34m(\u001b[0m\u001b[0mkey\u001b[0m\u001b[0;34m)\u001b[0m\u001b[0;34m[\u001b[0m\u001b[0mmissing_mask\u001b[0m\u001b[0;34m.\u001b[0m\u001b[0mnonzero\u001b[0m\u001b[0;34m(\u001b[0m\u001b[0;34m)\u001b[0m\u001b[0;34m[\u001b[0m\u001b[0;36m0\u001b[0m\u001b[0;34m]\u001b[0m\u001b[0;34m]\u001b[0m\u001b[0;34m.\u001b[0m\u001b[0munique\u001b[0m\u001b[0;34m(\u001b[0m\u001b[0;34m)\u001b[0m\u001b[0;34m)\u001b[0m\u001b[0;34m\u001b[0m\u001b[0;34m\u001b[0m\u001b[0m\n\u001b[0;32m-> 1377\u001b[0;31m             \u001b[0;32mraise\u001b[0m \u001b[0mKeyError\u001b[0m\u001b[0;34m(\u001b[0m\u001b[0;34mf\"{not_found} not in index\"\u001b[0m\u001b[0;34m)\u001b[0m\u001b[0;34m\u001b[0m\u001b[0;34m\u001b[0m\u001b[0m\n\u001b[0m\u001b[1;32m   1378\u001b[0m \u001b[0;34m\u001b[0m\u001b[0m\n\u001b[1;32m   1379\u001b[0m \u001b[0;34m\u001b[0m\u001b[0m\n",
      "\u001b[0;31mKeyError\u001b[0m: \"['2-50kk: Przyspiszenie przetwarzania', '2 - 25kk: Przyspiszenie przetwarzania', '25kk - 50kk: Przyspiszenie przetwarzania', 'full: Prędkość przetwarzania', 'half: Prędkość przetwarzania', '2-50kk: Efektywność przetwarzania', '2 - 25kk: Efektywność przetwarzania', '25kk-50kk: Efektywność przetwarzania'] not in index\""
     ]
    }
   ],
   "source": [
    "df[['Elapsed Time', 'Clockticks', 'Instructions Retired', 'Retiring', 'Front-End Bound', 'Back-End Bound', 'Memory Bound', 'Core Bound', 'Effective CPU Utilization', '2-50kk: Przyspiszenie przetwarzania','2 - 25kk: Przyspiszenie przetwarzania','25kk - 50kk: Przyspiszenie przetwarzania','full: Prędkość przetwarzania','half: Prędkość przetwarzania','2-50kk: Efektywność przetwarzania','2 - 25kk: Efektywność przetwarzania', '25kk-50kk: Efektywność przetwarzania']].T"
   ]
  },
  {
   "cell_type": "code",
   "execution_count": null,
   "id": "07c8ecfe",
   "metadata": {},
   "outputs": [],
   "source": [
    "import pandas as pd\n",
    "s = pd.Series([1.357, 1.489, 2.333333])\n",
    "\n",
    "make_float = lambda x: \"${:,.2f}\".format(x)\n",
    "s.apply(make_float)"
   ]
  },
  {
   "cell_type": "code",
   "execution_count": 21,
   "id": "4d76f0e9",
   "metadata": {},
   "outputs": [
    {
     "ename": "TypeError",
     "evalue": "unsupported format string passed to Series.__format__",
     "output_type": "error",
     "traceback": [
      "\u001b[0;31m---------------------------------------------------------------------------\u001b[0m",
      "\u001b[0;31mTypeError\u001b[0m                                 Traceback (most recent call last)",
      "\u001b[0;32m/tmp/ipykernel_5090/343537620.py\u001b[0m in \u001b[0;36m<module>\u001b[0;34m\u001b[0m\n\u001b[0;32m----> 1\u001b[0;31m \u001b[0mformat\u001b[0m\u001b[0;34m(\u001b[0m\u001b[0mdf\u001b[0m\u001b[0;34m[\u001b[0m\u001b[0;34m'half: Prędkość przetwarzania'\u001b[0m\u001b[0;34m]\u001b[0m\u001b[0;34m,\u001b[0m\u001b[0;34m'.1E'\u001b[0m\u001b[0;34m)\u001b[0m\u001b[0;34m\u001b[0m\u001b[0;34m\u001b[0m\u001b[0m\n\u001b[0m",
      "\u001b[0;31mTypeError\u001b[0m: unsupported format string passed to Series.__format__"
     ]
    }
   ],
   "source": [
    "format(df['half: Prędkość przetwarzania'],'.1E')"
   ]
  }
 ],
 "metadata": {
  "kernelspec": {
   "display_name": "Python 3 (ipykernel)",
   "language": "python",
   "name": "python3"
  },
  "language_info": {
   "codemirror_mode": {
    "name": "ipython",
    "version": 3
   },
   "file_extension": ".py",
   "mimetype": "text/x-python",
   "name": "python",
   "nbconvert_exporter": "python",
   "pygments_lexer": "ipython3",
   "version": "3.8.10"
  }
 },
 "nbformat": 4,
 "nbformat_minor": 5
}
